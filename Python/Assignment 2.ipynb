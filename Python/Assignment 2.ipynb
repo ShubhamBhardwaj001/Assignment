{
 "cells": [
  {
   "cell_type": "markdown",
   "id": "11e3087d",
   "metadata": {},
   "source": [
    "Generate random Password with exact length = 6, with minimum 1 \n",
    "uppercase, 2 lowercase, 2 digits, and remaining special characters.\n",
    "Using these packages [random, strings]"
   ]
  },
  {
   "cell_type": "code",
   "execution_count": 1,
   "id": "22d55e2f",
   "metadata": {},
   "outputs": [
    {
     "name": "stdout",
     "output_type": "stream",
     "text": [
      "A10h77\n"
     ]
    }
   ],
   "source": [
    "import string\n",
    "import random\n",
    "\n",
    "\n",
    "def password_creating(length):\n",
    "    uppercase_1 = random.randint(0,2)  \n",
    "    lowercase_1 = random.randint(3,4) \n",
    "    number_1 = random.randint(4,6)\n",
    "\n",
    "    password = ''\n",
    "      \n",
    "    for i in range(length):\n",
    "\n",
    "        if i == uppercase_1:   \n",
    "            password += random.choice(string.ascii_uppercase)\n",
    "                  \n",
    "        elif i == lowercase_1:  \n",
    "            password += random.choice(string.ascii_lowercase)\n",
    "                  \n",
    "        else: \n",
    "            password += random.choice(string.digits)\n",
    "                        \n",
    "    return password  \n",
    "\n",
    "print(password_creating(6))"
   ]
  },
  {
   "cell_type": "markdown",
   "id": "91a9fd79",
   "metadata": {},
   "source": [
    "Create 2D array and update the same 2D array provided that every \n",
    "prime number position should be replaced by cube of the positioned \n",
    "number."
   ]
  },
  {
   "cell_type": "code",
   "execution_count": 2,
   "id": "0e96eea0",
   "metadata": {},
   "outputs": [
    {
     "name": "stdout",
     "output_type": "stream",
     "text": [
      "[[ 1  2  3  4  5]\n",
      " [ 6  7  8  9 10]\n",
      " [11 12 13 14 15]\n",
      " [16 17 18 19 20]\n",
      " [21 22 23 24 25]]\n",
      "                   \n",
      "[[    1     8    27     4   125]\n",
      " [    6   343     8     9    10]\n",
      " [ 1331    12  2197    14    15]\n",
      " [   16  4913    18  6859    20]\n",
      " [   21    22 12167    24    25]]\n"
     ]
    }
   ],
   "source": [
    "import numpy as np\n",
    "import math\n",
    "def check(num):\n",
    "    prime=0\n",
    "    for i in  range(2,int(math.sqrt(num)+1)):\n",
    "        if num%i==0:\n",
    "            prime=1\n",
    "            break\n",
    "    if prime==0:\n",
    "        return True\n",
    "array=np.arange(1,26).reshape(5,5)\n",
    "print(array)\n",
    "print(\"                   \")\n",
    "for i in range(len(array[0])):\n",
    "    for j in range(len(array[1])):\n",
    "        if check(array[i][j])==True:\n",
    "            array[i][j]=array[i][j]**3\n",
    "print(array)"
   ]
  },
  {
   "cell_type": "markdown",
   "id": "8a0d26fa",
   "metadata": {},
   "source": [
    "#Python program to get the sum of every cubed value and its previous \n",
    "integer."
   ]
  },
  {
   "cell_type": "code",
   "execution_count": 3,
   "id": "5992c15a",
   "metadata": {},
   "outputs": [
    {
     "data": {
      "text/plain": [
       "array([[    1,     9,    36,     4,   129],\n",
       "       [    6,   349,     8,     9,    10],\n",
       "       [ 1341,    12,  2209,    14,    15],\n",
       "       [   16,  4929,    18,  6877,    20],\n",
       "       [   21,    22, 12189,    24,    25]])"
      ]
     },
     "execution_count": 3,
     "metadata": {},
     "output_type": "execute_result"
    }
   ],
   "source": [
    "def check(num):\n",
    "    prime=0\n",
    "    for i in  range(2,int(math.sqrt(num)+1)):\n",
    "        if num%i==0:\n",
    "            prime=1\n",
    "            break\n",
    "    if prime==0:\n",
    "        return True\n",
    "array7=np.arange(1,26).reshape(5,5)\n",
    "listarr=array7.flatten()\n",
    "for i in range(len(listarr)):\n",
    "            if check(listarr[i])==True and listarr[i]!=1:\n",
    "                  listarr[i]=listarr[i]**3+listarr[i-1]\n",
    "\n",
    "array8=np.array(listarr).reshape(5,5)\n",
    "array8"
   ]
  },
  {
   "cell_type": "markdown",
   "id": "2a5c2102",
   "metadata": {},
   "source": [
    "Checker Board Patten using Numpy:"
   ]
  },
  {
   "cell_type": "code",
   "execution_count": 5,
   "id": "5404a3a4",
   "metadata": {},
   "outputs": [
    {
     "data": {
      "text/plain": [
       "array([[1., 0., 1., 0., 1., 0., 1.],\n",
       "       [0., 1., 0., 1., 0., 1., 0.],\n",
       "       [1., 0., 1., 0., 1., 0., 1.],\n",
       "       [0., 1., 0., 1., 0., 1., 0.],\n",
       "       [1., 0., 1., 0., 1., 0., 1.]])"
      ]
     },
     "execution_count": 5,
     "metadata": {},
     "output_type": "execute_result"
    }
   ],
   "source": [
    "array3=np.zeros((5,7))\n",
    "array3\n",
    "array3[0::2,0::2]=1\n",
    "array3[1::2,1::2]=1\n",
    "array3"
   ]
  },
  {
   "cell_type": "markdown",
   "id": "bab22189",
   "metadata": {},
   "source": [
    "Given two arrays, find their intersection."
   ]
  },
  {
   "cell_type": "code",
   "execution_count": 10,
   "id": "a589b01b",
   "metadata": {},
   "outputs": [
    {
     "data": {
      "text/plain": [
       "[3, 5]"
      ]
     },
     "execution_count": 10,
     "metadata": {},
     "output_type": "execute_result"
    }
   ],
   "source": [
    "arr_1=np.array([1, 3, 4, 5, 7])\n",
    "arr_2= np.array([2, 3, 5, 6])\n",
    "list(filter(lambda num:num in arr1,arr2 ))"
   ]
  },
  {
   "cell_type": "markdown",
   "id": "8c0997ae",
   "metadata": {},
   "source": [
    "Create a 7 x 7  2D array having only multiples of 7. And return the last \n",
    "element of the same."
   ]
  },
  {
   "cell_type": "code",
   "execution_count": 11,
   "id": "990b5b0b",
   "metadata": {},
   "outputs": [
    {
     "name": "stdout",
     "output_type": "stream",
     "text": [
      "[[  7  14  21  28  35  42  49]\n",
      " [ 56  63  70  77  84  91  98]\n",
      " [105 112 119 126 133 140 147]\n",
      " [154 161 168 175 182 189 196]\n",
      " [203 210 217 224 231 238 245]\n",
      " [252 259 266 273 280 287 294]\n",
      " [301 308 315 322 329 336 343]]\n"
     ]
    },
    {
     "data": {
      "text/plain": [
       "343"
      ]
     },
     "execution_count": 11,
     "metadata": {},
     "output_type": "execute_result"
    }
   ],
   "source": [
    "import numpy as np\n",
    "n=7*7\n",
    "arr=np.arange(7,n*7+1,7).reshape(7,7)\n",
    "print(arr)\n",
    "arr[-1][-1]"
   ]
  },
  {
   "cell_type": "markdown",
   "id": "2e216c0b",
   "metadata": {},
   "source": [
    "Replace all the vowels by np.nan\n",
    "A, E, I, O U  -- >  np.nan\n",
    "Return the count of the missing values"
   ]
  },
  {
   "cell_type": "code",
   "execution_count": 15,
   "id": "0c2ecbb7",
   "metadata": {},
   "outputs": [
    {
     "name": "stdout",
     "output_type": "stream",
     "text": [
      "4\n"
     ]
    },
    {
     "data": {
      "text/plain": [
       "array([['C', 'B', 'R', 'C'],\n",
       "       ['S', 'nan', 'Y', 'nan'],\n",
       "       ['W', 'K', 'Q', 'N'],\n",
       "       ['R', 'N', 'F', 'R'],\n",
       "       ['R', 'T', 'nan', 'nan'],\n",
       "       ['K', 'G', 'Y', 'J']], dtype=object)"
      ]
     },
     "execution_count": 15,
     "metadata": {},
     "output_type": "execute_result"
    }
   ],
   "source": [
    "import random\n",
    "import string\n",
    "arr=np.empty((6,4),dtype=\"object\")\n",
    "for i in range(6):\n",
    "   for j in range(4):\n",
    "       arr[i][j] = random.choice(string.ascii_uppercase)\n",
    "count=0;\n",
    "for i in range(6):\n",
    "   for j in range(4):\n",
    "       if(arr[i][j] == 'A' or arr[i][j] == 'E' or arr[i][j] == 'I' or arr[i][j] == 'O' or arr[i][j] == 'U'):\n",
    "           arr[i][j] = str(np.nan)\n",
    "           count+=1\n",
    "print(count)\n",
    "arr"
   ]
  },
  {
   "cell_type": "code",
   "execution_count": null,
   "id": "4f99b78d",
   "metadata": {},
   "outputs": [],
   "source": []
  }
 ],
 "metadata": {
  "kernelspec": {
   "display_name": "Python 3 (ipykernel)",
   "language": "python",
   "name": "python3"
  },
  "language_info": {
   "codemirror_mode": {
    "name": "ipython",
    "version": 3
   },
   "file_extension": ".py",
   "mimetype": "text/x-python",
   "name": "python",
   "nbconvert_exporter": "python",
   "pygments_lexer": "ipython3",
   "version": "3.9.13"
  }
 },
 "nbformat": 4,
 "nbformat_minor": 5
}
